{
 "cells": [
  {
   "cell_type": "code",
   "execution_count": 1,
   "metadata": {},
   "outputs": [],
   "source": [
    "import numpy as np\n",
    "import pandas as pd\n",
    "import math\n",
    "import matplotlib.pyplot as plt\n",
    "from tqdm import tqdm\n",
    "import os"
   ]
  },
  {
   "cell_type": "markdown",
   "metadata": {},
   "source": [
    "# Data Import\n",
    "The data is constituted of the history of clicks on ads of the month of Mars 2016. We assume that \"Advertiser_ID\" is the ID of the app being promoted on the clicked ad and \"idfa\" is the ID of the user that clicked\n",
    "\n",
    "We deleted the lines with empty idfa"
   ]
  },
  {
   "cell_type": "code",
   "execution_count": 2,
   "metadata": {},
   "outputs": [],
   "source": [
    "path = 'click_201603'\n",
    "files = os.listdir(path)\n",
    "parquet_files = [f for f in files if os.path.splitext(f)[1]=='.parquet']"
   ]
  },
  {
   "cell_type": "code",
   "execution_count": 3,
   "metadata": {},
   "outputs": [],
   "source": [
    "clicks_df = pd.read_parquet(path+\"\\\\\"+parquet_files[0], engine='auto')\n",
    "for f in parquet_files[1:]:\n",
    "    clicks_df = pd.concat([clicks_df, pd.read_parquet(path+\"\\\\\"+f, engine='auto')])"
   ]
  },
  {
   "cell_type": "code",
   "execution_count": 4,
   "metadata": {},
   "outputs": [],
   "source": [
    "clicks_df = clicks_df[clicks_df['idfa']!=''][['Advertiser_ID','idfa','DateEvent']]"
   ]
  },
  {
   "cell_type": "code",
   "execution_count": 5,
   "metadata": {},
   "outputs": [],
   "source": [
    "sorted_clicks_df = clicks_df.sort_values(by='DateEvent').reset_index(drop=True)"
   ]
  },
  {
   "cell_type": "code",
   "execution_count": 6,
   "metadata": {},
   "outputs": [
    {
     "data": {
      "text/html": [
       "<div>\n",
       "<style scoped>\n",
       "    .dataframe tbody tr th:only-of-type {\n",
       "        vertical-align: middle;\n",
       "    }\n",
       "\n",
       "    .dataframe tbody tr th {\n",
       "        vertical-align: top;\n",
       "    }\n",
       "\n",
       "    .dataframe thead th {\n",
       "        text-align: right;\n",
       "    }\n",
       "</style>\n",
       "<table border=\"1\" class=\"dataframe\">\n",
       "  <thead>\n",
       "    <tr style=\"text-align: right;\">\n",
       "      <th></th>\n",
       "      <th>Advertiser_ID</th>\n",
       "      <th>idfa</th>\n",
       "      <th>DateEvent</th>\n",
       "    </tr>\n",
       "  </thead>\n",
       "  <tbody>\n",
       "    <tr>\n",
       "      <th>0</th>\n",
       "      <td>329</td>\n",
       "      <td>79382133-fef8-4e08-94a3-e72fce1ac395</td>\n",
       "      <td>2016-02-29 22:15:04</td>\n",
       "    </tr>\n",
       "    <tr>\n",
       "      <th>1</th>\n",
       "      <td>329</td>\n",
       "      <td>ccb8eecc-92df-4ab5-83da-98c9efd7005e</td>\n",
       "      <td>2016-02-29 22:15:06</td>\n",
       "    </tr>\n",
       "    <tr>\n",
       "      <th>2</th>\n",
       "      <td>161</td>\n",
       "      <td>64927121-8AC5-43E0-B362-3C747937B422</td>\n",
       "      <td>2016-02-29 22:15:07</td>\n",
       "    </tr>\n",
       "    <tr>\n",
       "      <th>3</th>\n",
       "      <td>329</td>\n",
       "      <td>ccb8eecc-92df-4ab5-83da-98c9efd7005e</td>\n",
       "      <td>2016-02-29 22:15:08</td>\n",
       "    </tr>\n",
       "    <tr>\n",
       "      <th>4</th>\n",
       "      <td>161</td>\n",
       "      <td>5DC62F12-0F34-430A-B0DC-212B050DBEB5</td>\n",
       "      <td>2016-02-29 22:15:08</td>\n",
       "    </tr>\n",
       "  </tbody>\n",
       "</table>\n",
       "</div>"
      ],
      "text/plain": [
       "  Advertiser_ID                                  idfa           DateEvent\n",
       "0           329  79382133-fef8-4e08-94a3-e72fce1ac395 2016-02-29 22:15:04\n",
       "1           329  ccb8eecc-92df-4ab5-83da-98c9efd7005e 2016-02-29 22:15:06\n",
       "2           161  64927121-8AC5-43E0-B362-3C747937B422 2016-02-29 22:15:07\n",
       "3           329  ccb8eecc-92df-4ab5-83da-98c9efd7005e 2016-02-29 22:15:08\n",
       "4           161  5DC62F12-0F34-430A-B0DC-212B050DBEB5 2016-02-29 22:15:08"
      ]
     },
     "execution_count": 6,
     "metadata": {},
     "output_type": "execute_result"
    }
   ],
   "source": [
    "sorted_clicks_df.head()"
   ]
  },
  {
   "cell_type": "code",
   "execution_count": 7,
   "metadata": {},
   "outputs": [
    {
     "name": "stdout",
     "output_type": "stream",
     "text": [
      "<class 'pandas.core.frame.DataFrame'>\n",
      "RangeIndex: 1415843 entries, 0 to 1415842\n",
      "Data columns (total 3 columns):\n",
      " #   Column         Non-Null Count    Dtype         \n",
      "---  ------         --------------    -----         \n",
      " 0   Advertiser_ID  1415843 non-null  object        \n",
      " 1   idfa           1415843 non-null  object        \n",
      " 2   DateEvent      1415843 non-null  datetime64[ns]\n",
      "dtypes: datetime64[ns](1), object(2)\n",
      "memory usage: 32.4+ MB\n"
     ]
    }
   ],
   "source": [
    "sorted_clicks_df.info()"
   ]
  },
  {
   "cell_type": "code",
   "execution_count": 8,
   "metadata": {},
   "outputs": [
    {
     "data": {
      "text/html": [
       "<div>\n",
       "<style scoped>\n",
       "    .dataframe tbody tr th:only-of-type {\n",
       "        vertical-align: middle;\n",
       "    }\n",
       "\n",
       "    .dataframe tbody tr th {\n",
       "        vertical-align: top;\n",
       "    }\n",
       "\n",
       "    .dataframe thead th {\n",
       "        text-align: right;\n",
       "    }\n",
       "</style>\n",
       "<table border=\"1\" class=\"dataframe\">\n",
       "  <thead>\n",
       "    <tr style=\"text-align: right;\">\n",
       "      <th></th>\n",
       "      <th>Advertiser_ID</th>\n",
       "      <th>idfa</th>\n",
       "      <th>DateEvent</th>\n",
       "    </tr>\n",
       "  </thead>\n",
       "  <tbody>\n",
       "    <tr>\n",
       "      <th>count</th>\n",
       "      <td>1415843</td>\n",
       "      <td>1415843</td>\n",
       "      <td>1415843</td>\n",
       "    </tr>\n",
       "    <tr>\n",
       "      <th>unique</th>\n",
       "      <td>94</td>\n",
       "      <td>725433</td>\n",
       "      <td>902097</td>\n",
       "    </tr>\n",
       "    <tr>\n",
       "      <th>top</th>\n",
       "      <td>610</td>\n",
       "      <td>cd815fc7-b0c4-404f-94a2-e63044f87351</td>\n",
       "      <td>2016-03-24 07:03:47</td>\n",
       "    </tr>\n",
       "    <tr>\n",
       "      <th>freq</th>\n",
       "      <td>306176</td>\n",
       "      <td>542</td>\n",
       "      <td>15</td>\n",
       "    </tr>\n",
       "    <tr>\n",
       "      <th>first</th>\n",
       "      <td>NaN</td>\n",
       "      <td>NaN</td>\n",
       "      <td>2016-02-29 22:15:04</td>\n",
       "    </tr>\n",
       "    <tr>\n",
       "      <th>last</th>\n",
       "      <td>NaN</td>\n",
       "      <td>NaN</td>\n",
       "      <td>2016-03-31 21:57:47</td>\n",
       "    </tr>\n",
       "  </tbody>\n",
       "</table>\n",
       "</div>"
      ],
      "text/plain": [
       "       Advertiser_ID                                  idfa  \\\n",
       "count        1415843                               1415843   \n",
       "unique            94                                725433   \n",
       "top              610  cd815fc7-b0c4-404f-94a2-e63044f87351   \n",
       "freq          306176                                   542   \n",
       "first            NaN                                   NaN   \n",
       "last             NaN                                   NaN   \n",
       "\n",
       "                  DateEvent  \n",
       "count               1415843  \n",
       "unique               902097  \n",
       "top     2016-03-24 07:03:47  \n",
       "freq                     15  \n",
       "first   2016-02-29 22:15:04  \n",
       "last    2016-03-31 21:57:47  "
      ]
     },
     "execution_count": 8,
     "metadata": {},
     "output_type": "execute_result"
    }
   ],
   "source": [
    "sorted_clicks_df.describe()"
   ]
  },
  {
   "cell_type": "markdown",
   "metadata": {},
   "source": [
    "The dataset contains approximetly 1.5 million clicks done by 725 433 users over 94 Apps "
   ]
  },
  {
   "cell_type": "code",
   "execution_count": 8,
   "metadata": {},
   "outputs": [],
   "source": [
    "sorted_clicks_df['Advertiser_ID'] = pd.to_numeric(sorted_clicks_df['Advertiser_ID'])"
   ]
  },
  {
   "cell_type": "markdown",
   "metadata": {},
   "source": [
    "# Train Test split\n",
    "For the testing set, we will be choosing users with over 5 clicks (avoid cold-start problem) and than pick the last click as the testing set.\n",
    "\n",
    "The remaining data (ie users with less than 5 clicks and the past clicks apart from the last one for users with more than 5 clicks) will be added to the training set.   "
   ]
  },
  {
   "cell_type": "code",
   "execution_count": 9,
   "metadata": {},
   "outputs": [],
   "source": [
    "def train_test_split(clicks_df, user_column, app_column):\n",
    "    '''\n",
    "    clicks_df is the dataframe containing all history of clicks, must contain user id and the clicked app id \n",
    "    user_column is the name of the column containing users id \n",
    "    app_column is the name of the column containing apps id\n",
    "    \n",
    "    return train and test sets as described above\n",
    "    '''\n",
    "    \n",
    "    # keep only users with more than 5 clicks\n",
    "    retreive = clicks_df[user_column].value_counts()[clicks_df[user_column].value_counts()>5].keys()\n",
    "    df_test = clicks_df[clicks_df[user_column].isin(retreive)]\n",
    "    \n",
    "    # pick the last click as testing set\n",
    "    df_test = df_test.groupby(user_column).tail(1)\n",
    "    \n",
    "    # all remaining is for the training set\n",
    "    df_train = clicks_df.drop(index=df_test.index)\n",
    "    \n",
    "    if df_train.shape[0]+df_test.shape[0] == clicks_df.shape[0]:\n",
    "        print('train - test split succeeded ! \\n df_train shape:(%d,%d) \\n df_test shape: (%d,%d) '\n",
    "             % (df_train.shape[0], df_train.shape[1], df_test.shape[0], df_test.shape[1]))\n",
    "        ratio = ((100*df_test.shape[0])/clicks_df.shape[0])\n",
    "        print('testing set ratio = %.2f ' % (ratio))\n",
    "        return df_train, df_test\n",
    "    else:\n",
    "        print('Oops, something went wrong ! \\n df_train shape:(%d,%d) \\n df_test shape: (%d,%d) '\n",
    "             % (df_train.shape[0], df_train.shape[1], df_test.shape[0], df_test.shape[1]))\n",
    "        print('original dataframe shape :(%d,%d)' % (clicks_df.shape[0], clicks_df.shape[1]))"
   ]
  },
  {
   "cell_type": "code",
   "execution_count": 10,
   "metadata": {},
   "outputs": [
    {
     "name": "stdout",
     "output_type": "stream",
     "text": [
      "train - test split succeeded ! \n",
      " df_train shape:(1382919,3) \n",
      " df_test shape: (32924,3) \n",
      "testing set ratio = 2.33 \n"
     ]
    }
   ],
   "source": [
    "df_train, df_test = train_test_split(sorted_clicks_df, 'idfa' , 'Advertiser_ID')"
   ]
  },
  {
   "cell_type": "code",
   "execution_count": 11,
   "metadata": {},
   "outputs": [
    {
     "data": {
      "text/plain": [
       "4.389866666666666"
      ]
     },
     "execution_count": 11,
     "metadata": {},
     "output_type": "execute_result"
    }
   ],
   "source": [
    "100*32924/750000"
   ]
  },
  {
   "cell_type": "code",
   "execution_count": 12,
   "metadata": {},
   "outputs": [
    {
     "name": "stdout",
     "output_type": "stream",
     "text": [
      "train - test split succeeded ! \n",
      " df_train shape:(1360279,3) \n",
      " df_test shape: (22640,3) \n",
      "testing set ratio = 1.64 \n"
     ]
    }
   ],
   "source": [
    "df_train_cv, df_val = train_test_split(df_train, 'idfa' , 'Advertiser_ID')"
   ]
  },
  {
   "cell_type": "code",
   "execution_count": 21,
   "metadata": {},
   "outputs": [],
   "source": [
    "df_train_group_map.to_csv('clicks_train.csv', index=False)"
   ]
  },
  {
   "cell_type": "code",
   "execution_count": 30,
   "metadata": {},
   "outputs": [
    {
     "data": {
      "text/html": [
       "<div>\n",
       "<style scoped>\n",
       "    .dataframe tbody tr th:only-of-type {\n",
       "        vertical-align: middle;\n",
       "    }\n",
       "\n",
       "    .dataframe tbody tr th {\n",
       "        vertical-align: top;\n",
       "    }\n",
       "\n",
       "    .dataframe thead th {\n",
       "        text-align: right;\n",
       "    }\n",
       "</style>\n",
       "<table border=\"1\" class=\"dataframe\">\n",
       "  <thead>\n",
       "    <tr style=\"text-align: right;\">\n",
       "      <th></th>\n",
       "      <th>idfa</th>\n",
       "      <th>Advertiser_ID</th>\n",
       "      <th>click_times</th>\n",
       "    </tr>\n",
       "  </thead>\n",
       "  <tbody>\n",
       "    <tr>\n",
       "      <th>0</th>\n",
       "      <td>222934</td>\n",
       "      <td>0</td>\n",
       "      <td>1</td>\n",
       "    </tr>\n",
       "    <tr>\n",
       "      <th>1</th>\n",
       "      <td>564439</td>\n",
       "      <td>5</td>\n",
       "      <td>1</td>\n",
       "    </tr>\n",
       "    <tr>\n",
       "      <th>2</th>\n",
       "      <td>83880</td>\n",
       "      <td>35</td>\n",
       "      <td>1</td>\n",
       "    </tr>\n",
       "    <tr>\n",
       "      <th>3</th>\n",
       "      <td>77951</td>\n",
       "      <td>0</td>\n",
       "      <td>1</td>\n",
       "    </tr>\n",
       "    <tr>\n",
       "      <th>4</th>\n",
       "      <td>371509</td>\n",
       "      <td>57</td>\n",
       "      <td>1</td>\n",
       "    </tr>\n",
       "    <tr>\n",
       "      <th>...</th>\n",
       "      <td>...</td>\n",
       "      <td>...</td>\n",
       "      <td>...</td>\n",
       "    </tr>\n",
       "    <tr>\n",
       "      <th>32919</th>\n",
       "      <td>230573</td>\n",
       "      <td>57</td>\n",
       "      <td>1</td>\n",
       "    </tr>\n",
       "    <tr>\n",
       "      <th>32920</th>\n",
       "      <td>92795</td>\n",
       "      <td>0</td>\n",
       "      <td>1</td>\n",
       "    </tr>\n",
       "    <tr>\n",
       "      <th>32921</th>\n",
       "      <td>342397</td>\n",
       "      <td>0</td>\n",
       "      <td>1</td>\n",
       "    </tr>\n",
       "    <tr>\n",
       "      <th>32922</th>\n",
       "      <td>291625</td>\n",
       "      <td>7</td>\n",
       "      <td>1</td>\n",
       "    </tr>\n",
       "    <tr>\n",
       "      <th>32923</th>\n",
       "      <td>256422</td>\n",
       "      <td>57</td>\n",
       "      <td>1</td>\n",
       "    </tr>\n",
       "  </tbody>\n",
       "</table>\n",
       "<p>32924 rows × 3 columns</p>\n",
       "</div>"
      ],
      "text/plain": [
       "         idfa  Advertiser_ID  click_times\n",
       "0      222934              0            1\n",
       "1      564439              5            1\n",
       "2       83880             35            1\n",
       "3       77951              0            1\n",
       "4      371509             57            1\n",
       "...       ...            ...          ...\n",
       "32919  230573             57            1\n",
       "32920   92795              0            1\n",
       "32921  342397              0            1\n",
       "32922  291625              7            1\n",
       "32923  256422             57            1\n",
       "\n",
       "[32924 rows x 3 columns]"
      ]
     },
     "execution_count": 30,
     "metadata": {},
     "output_type": "execute_result"
    }
   ],
   "source": [
    "df_test_group_map"
   ]
  },
  {
   "cell_type": "code",
   "execution_count": 22,
   "metadata": {},
   "outputs": [],
   "source": [
    "df_val_group_map.to_csv('clicks_validation.csv', index=False)"
   ]
  },
  {
   "cell_type": "code",
   "execution_count": 23,
   "metadata": {},
   "outputs": [],
   "source": [
    "df_test_group_map.to_csv('clicks_test.csv', index=False)"
   ]
  },
  {
   "cell_type": "code",
   "execution_count": 13,
   "metadata": {},
   "outputs": [
    {
     "name": "stdout",
     "output_type": "stream",
     "text": [
      "The sparcity of the clicks matrix = 97.92 percent\n"
     ]
    }
   ],
   "source": [
    "print(\"The sparcity of the clicks matrix = %.2f percent\" % (100*(1-sorted_clicks_df.shape[0]/(sorted_clicks_df['Advertiser_ID'].nunique()*sorted_clicks_df['idfa'].nunique()))))"
   ]
  },
  {
   "cell_type": "code",
   "execution_count": 14,
   "metadata": {},
   "outputs": [
    {
     "data": {
      "text/html": [
       "<div>\n",
       "<style scoped>\n",
       "    .dataframe tbody tr th:only-of-type {\n",
       "        vertical-align: middle;\n",
       "    }\n",
       "\n",
       "    .dataframe tbody tr th {\n",
       "        vertical-align: top;\n",
       "    }\n",
       "\n",
       "    .dataframe thead th {\n",
       "        text-align: right;\n",
       "    }\n",
       "</style>\n",
       "<table border=\"1\" class=\"dataframe\">\n",
       "  <thead>\n",
       "    <tr style=\"text-align: right;\">\n",
       "      <th></th>\n",
       "      <th>Advertiser_ID</th>\n",
       "      <th>idfa</th>\n",
       "      <th>DateEvent</th>\n",
       "    </tr>\n",
       "  </thead>\n",
       "  <tbody>\n",
       "    <tr>\n",
       "      <th>0</th>\n",
       "      <td>329</td>\n",
       "      <td>79382133-fef8-4e08-94a3-e72fce1ac395</td>\n",
       "      <td>2016-02-29 22:15:04</td>\n",
       "    </tr>\n",
       "    <tr>\n",
       "      <th>1</th>\n",
       "      <td>329</td>\n",
       "      <td>ccb8eecc-92df-4ab5-83da-98c9efd7005e</td>\n",
       "      <td>2016-02-29 22:15:06</td>\n",
       "    </tr>\n",
       "    <tr>\n",
       "      <th>2</th>\n",
       "      <td>161</td>\n",
       "      <td>64927121-8AC5-43E0-B362-3C747937B422</td>\n",
       "      <td>2016-02-29 22:15:07</td>\n",
       "    </tr>\n",
       "    <tr>\n",
       "      <th>3</th>\n",
       "      <td>329</td>\n",
       "      <td>ccb8eecc-92df-4ab5-83da-98c9efd7005e</td>\n",
       "      <td>2016-02-29 22:15:08</td>\n",
       "    </tr>\n",
       "    <tr>\n",
       "      <th>4</th>\n",
       "      <td>161</td>\n",
       "      <td>5DC62F12-0F34-430A-B0DC-212B050DBEB5</td>\n",
       "      <td>2016-02-29 22:15:08</td>\n",
       "    </tr>\n",
       "  </tbody>\n",
       "</table>\n",
       "</div>"
      ],
      "text/plain": [
       "   Advertiser_ID                                  idfa           DateEvent\n",
       "0            329  79382133-fef8-4e08-94a3-e72fce1ac395 2016-02-29 22:15:04\n",
       "1            329  ccb8eecc-92df-4ab5-83da-98c9efd7005e 2016-02-29 22:15:06\n",
       "2            161  64927121-8AC5-43E0-B362-3C747937B422 2016-02-29 22:15:07\n",
       "3            329  ccb8eecc-92df-4ab5-83da-98c9efd7005e 2016-02-29 22:15:08\n",
       "4            161  5DC62F12-0F34-430A-B0DC-212B050DBEB5 2016-02-29 22:15:08"
      ]
     },
     "execution_count": 14,
     "metadata": {},
     "output_type": "execute_result"
    }
   ],
   "source": [
    "sorted_clicks_df.head()"
   ]
  },
  {
   "cell_type": "code",
   "execution_count": 15,
   "metadata": {},
   "outputs": [
    {
     "data": {
      "text/plain": [
       "<matplotlib.axes._subplots.AxesSubplot at 0x2ef7696ae08>"
      ]
     },
     "execution_count": 15,
     "metadata": {},
     "output_type": "execute_result"
    },
    {
     "data": {
      "image/png": "[encoded data removed]",
      "text/plain": [
       "<Figure size 432x288 with 1 Axes>"
      ]
     },
     "metadata": {
      "needs_background": "light"
     },
     "output_type": "display_data"
    }
   ],
   "source": [
    "(sorted_clicks_df['Advertiser_ID'].value_counts()/sorted_clicks_df.shape[0]*100).plot(kind='bar')"
   ]
  },
  {
   "cell_type": "code",
   "execution_count": 16,
   "metadata": {},
   "outputs": [],
   "source": [
    "apps_over_50k_clicks = sorted_clicks_df[sorted_clicks_df['Advertiser_ID'].isin(sorted_clicks_df['Advertiser_ID'].value_counts()[sorted_clicks_df['Advertiser_ID'].value_counts()>50000].keys())]"
   ]
  },
  {
   "cell_type": "code",
   "execution_count": 17,
   "metadata": {},
   "outputs": [
    {
     "name": "stdout",
     "output_type": "stream",
     "text": [
      "7 apps monopolize 79.69 percent of the clicks of the dataset\n"
     ]
    }
   ],
   "source": [
    "print(\"%d apps monopolize %.2f percent of the clicks of the dataset\" % (apps_over_50k_clicks['Advertiser_ID'].nunique(),100*apps_over_50k_clicks.shape[0]/sorted_clicks_df.shape[0]))"
   ]
  },
  {
   "cell_type": "markdown",
   "metadata": {},
   "source": [
    "This highlights the popularity of these 7 apps among users each app has over 50k clicks:"
   ]
  },
  {
   "cell_type": "code",
   "execution_count": 18,
   "metadata": {},
   "outputs": [
    {
     "data": {
      "text/plain": [
       "array([329,  10,   7, 573, 600, 610, 488], dtype=int64)"
      ]
     },
     "execution_count": 18,
     "metadata": {},
     "output_type": "execute_result"
    }
   ],
   "source": [
    "apps_over_50k_clicks['Advertiser_ID'].unique()"
   ]
  },
  {
   "cell_type": "code",
   "execution_count": 19,
   "metadata": {},
   "outputs": [
    {
     "data": {
      "text/plain": [
       "<matplotlib.axes._subplots.AxesSubplot at 0x2efe6cc9d08>"
      ]
     },
     "execution_count": 19,
     "metadata": {},
     "output_type": "execute_result"
    },
    {
     "data": {
      "image/png": "[encoded data removed]",
      "text/plain": [
       "<Figure size 432x288 with 1 Axes>"
      ]
     },
     "metadata": {
      "needs_background": "light"
     },
     "output_type": "display_data"
    }
   ],
   "source": [
    "(sorted_clicks_df['idfa'].value_counts().value_counts()[:10]/sorted_clicks_df['idfa'].nunique()*100).plot(kind='bar')"
   ]
  },
  {
   "cell_type": "code",
   "execution_count": 20,
   "metadata": {},
   "outputs": [
    {
     "name": "stdout",
     "output_type": "stream",
     "text": [
      "63.32 percent of the users only click one time from the data\n",
      "95.46 percent of the users click under 5 times from the data\n"
     ]
    }
   ],
   "source": [
    "print(\"%.2f percent of the users only click one time from the data\" % (sorted_clicks_df['idfa'].value_counts().value_counts()[1]/sorted_clicks_df['idfa'].nunique()*100))\n",
    "print(\"%.2f percent of the users click under 5 times from the data\" % (sorted_clicks_df['idfa'].value_counts().value_counts().loc[[1,2,3,4,5]].sum()/sorted_clicks_df['idfa'].nunique()*100))"
   ]
  },
  {
   "cell_type": "markdown",
   "metadata": {},
   "source": [
    "this proves that the cold-start problem is an important issue to be treated"
   ]
  },
  {
   "cell_type": "markdown",
   "metadata": {},
   "source": [
    "# Metrics\n",
    "Hit Ratio : 1 if the top-K list includes the truth, 0 otherwise. Then we calculate the average score on testing set\n",
    "\n",
    "NDCG : is a hit ratio but considers the ranking too"
   ]
  },
  {
   "cell_type": "code",
   "execution_count": 21,
   "metadata": {},
   "outputs": [],
   "source": [
    "def getHitRatio(ranklist, gtapp):\n",
    "    '''\n",
    "    ranklist : list of top-K recommanded apps\n",
    "    gtapp : the app clicked y the user\n",
    "    \n",
    "    return 1 if the app clicked is in the recommanded list and 0 otherwise\n",
    "    '''\n",
    "    for app in ranklist:\n",
    "        if app == gtapp:\n",
    "            return 1\n",
    "    return 0"
   ]
  },
  {
   "cell_type": "code",
   "execution_count": 22,
   "metadata": {},
   "outputs": [],
   "source": [
    "def getNDCG(ranklist, gtapp):\n",
    "    '''\n",
    "    ranklist : list of top-K recommanded apps\n",
    "    gtapp : the app clicked y the user\n",
    "    \n",
    "    return a value between 0 and 1, 1 if the app clicked is first in the recommanded list, the value decreases with the rank of \n",
    "    the app and returns 0 if the app is not in the list\n",
    "    '''\n",
    "    for i in range(len(ranklist)):\n",
    "        app = ranklist[i]\n",
    "        if app == gtapp:\n",
    "            return math.log(2) / math.log(i+2)\n",
    "    else:\n",
    "        return 0"
   ]
  },
  {
   "cell_type": "code",
   "execution_count": 23,
   "metadata": {},
   "outputs": [],
   "source": [
    "def getScores(model, test_set, K=5):\n",
    "    '''\n",
    "    model must have a 'top_K' method that returns top K recommandations for a certain user\n",
    "    \n",
    "    return the HR and NDCG scores over the test_set\n",
    "    '''\n",
    "    HR_score = 0\n",
    "    NDCG_score = 0\n",
    "    for i in range(test_set.shape[0]):\n",
    "        rankList = model.top_K(test_set.iloc[i]['idfa'], K)\n",
    "        HR_score += getHitRatio(rankList, test_set.iloc[i]['Advertiser_ID'])\n",
    "        NDCG_score += getNDCG(rankList, test_set.iloc[i]['Advertiser_ID'])\n",
    "    return (HR_score/test_set.shape[0]), (NDCG_score/test_set.shape[0])"
   ]
  },
  {
   "cell_type": "markdown",
   "metadata": {},
   "source": [
    "# Abstract class for models \n",
    "this class will be used as a blueprint for every developed model"
   ]
  },
  {
   "cell_type": "code",
   "execution_count": 24,
   "metadata": {},
   "outputs": [],
   "source": [
    "from abc import ABC, abstractmethod"
   ]
  },
  {
   "cell_type": "code",
   "execution_count": 25,
   "metadata": {},
   "outputs": [],
   "source": [
    "class Model(ABC):\n",
    "    def fit(self, train_set, val_set):\n",
    "        pass\n",
    "    def top_K(self, user, K):\n",
    "        pass\n",
    "    def set_params(self, params):\n",
    "        pass\n",
    "    def get_params(self):\n",
    "        pass"
   ]
  },
  {
   "cell_type": "markdown",
   "metadata": {},
   "source": [
    "# First model\n",
    "this model is considered as a test for the metric functions\n",
    "\n",
    "this models is a naive one that always returns the K most popular apps for every user"
   ]
  },
  {
   "cell_type": "code",
   "execution_count": 24,
   "metadata": {},
   "outputs": [
    {
     "ename": "NameError",
     "evalue": "name 'Model' is not defined",
     "output_type": "error",
     "traceback": [
      "\u001b[1;31m---------------------------------------------------------------------------\u001b[0m",
      "\u001b[1;31mNameError\u001b[0m                                 Traceback (most recent call last)",
      "\u001b[1;32m<ipython-input-24-cc214895e254>\u001b[0m in \u001b[0;36m<module>\u001b[1;34m\u001b[0m\n\u001b[1;32m----> 1\u001b[1;33m \u001b[1;32mclass\u001b[0m \u001b[0mpopularity_model\u001b[0m\u001b[1;33m(\u001b[0m\u001b[0mModel\u001b[0m\u001b[1;33m)\u001b[0m\u001b[1;33m:\u001b[0m\u001b[1;33m\u001b[0m\u001b[1;33m\u001b[0m\u001b[0m\n\u001b[0m\u001b[0;32m      2\u001b[0m     \u001b[1;32mdef\u001b[0m \u001b[0m__init__\u001b[0m\u001b[1;33m(\u001b[0m\u001b[0mself\u001b[0m\u001b[1;33m,\u001b[0m \u001b[0mpop_apps\u001b[0m\u001b[1;33m=\u001b[0m\u001b[1;33m[\u001b[0m\u001b[1;33m]\u001b[0m\u001b[1;33m)\u001b[0m\u001b[1;33m:\u001b[0m\u001b[1;33m\u001b[0m\u001b[1;33m\u001b[0m\u001b[0m\n\u001b[0;32m      3\u001b[0m         \u001b[0mself\u001b[0m\u001b[1;33m.\u001b[0m\u001b[0mpop_apps\u001b[0m \u001b[1;33m=\u001b[0m \u001b[0mpop_apps\u001b[0m\u001b[1;33m\u001b[0m\u001b[1;33m\u001b[0m\u001b[0m\n\u001b[0;32m      4\u001b[0m \u001b[1;33m\u001b[0m\u001b[0m\n\u001b[0;32m      5\u001b[0m     \u001b[1;32mdef\u001b[0m \u001b[0mfit\u001b[0m\u001b[1;33m(\u001b[0m\u001b[0mself\u001b[0m\u001b[1;33m,\u001b[0m \u001b[0mtrain_set\u001b[0m\u001b[1;33m,\u001b[0m \u001b[0mval_set\u001b[0m\u001b[1;33m)\u001b[0m\u001b[1;33m:\u001b[0m\u001b[1;33m\u001b[0m\u001b[1;33m\u001b[0m\u001b[0m\n",
      "\u001b[1;31mNameError\u001b[0m: name 'Model' is not defined"
     ]
    }
   ],
   "source": [
    "class popularity_model(Model):\n",
    "    def __init__(self, pop_apps=[]):\n",
    "        self.pop_apps = pop_apps\n",
    "    \n",
    "    def fit(self, train_set, val_set):\n",
    "        '''\n",
    "        This model does not include an optimization process \n",
    "        So the val_set is used in the training\n",
    "        '''\n",
    "        \n",
    "        df = pd.concat([train_set,val_set])\n",
    "        try:\n",
    "            self.pop_apps = df['Advertiser_ID'].value_counts().index.to_list()\n",
    "            print(\"The model is trained successfully ! \")\n",
    "        except:\n",
    "            print(\"Oops ! a problem happened during fitting !\")\n",
    "    \n",
    "    def top_K(self, user, K=5):\n",
    "        try :\n",
    "            result = self.pop_apps[:K]\n",
    "        except:\n",
    "            print(\"Oops ! your model is not well trained or not enough items\")\n",
    "        \n",
    "        return result\n",
    "    \n",
    "    def set_params(self, params={}):\n",
    "        pass\n",
    "    def get_params(self):\n",
    "        print(\"this model has no params (memory based model)\")"
   ]
  },
  {
   "cell_type": "code",
   "execution_count": 25,
   "metadata": {},
   "outputs": [
    {
     "ename": "NameError",
     "evalue": "name 'popularity_model' is not defined",
     "output_type": "error",
     "traceback": [
      "\u001b[1;31m---------------------------------------------------------------------------\u001b[0m",
      "\u001b[1;31mNameError\u001b[0m                                 Traceback (most recent call last)",
      "\u001b[1;32m<ipython-input-25-ce2881ff7c31>\u001b[0m in \u001b[0;36m<module>\u001b[1;34m\u001b[0m\n\u001b[1;32m----> 1\u001b[1;33m \u001b[0mfirst_model\u001b[0m \u001b[1;33m=\u001b[0m \u001b[0mpopularity_model\u001b[0m\u001b[1;33m(\u001b[0m\u001b[1;33m)\u001b[0m\u001b[1;33m\u001b[0m\u001b[1;33m\u001b[0m\u001b[0m\n\u001b[0m",
      "\u001b[1;31mNameError\u001b[0m: name 'popularity_model' is not defined"
     ]
    }
   ],
   "source": [
    "first_model = popularity_model()"
   ]
  },
  {
   "cell_type": "code",
   "execution_count": 35,
   "metadata": {},
   "outputs": [
    {
     "name": "stdout",
     "output_type": "stream",
     "text": [
      "The model is trained successfully ! \n"
     ]
    }
   ],
   "source": [
    "first_model.fit(df_train_group_map,df_val_group_map)"
   ]
  },
  {
   "cell_type": "code",
   "execution_count": 36,
   "metadata": {},
   "outputs": [
    {
     "name": "stdout",
     "output_type": "stream",
     "text": [
      "Hit ratio on testing set = 81.43 %\n",
      "NDCG (Hit ratio with ranking consideration) on testing set = 50.92 %\n"
     ]
    }
   ],
   "source": [
    "HR_score, NDCG_score = getScores(first_model, df_test_group_map, K=5)\n",
    "print(\"Hit ratio on testing set = %.2f\" % (100*HR_score),\"%\")\n",
    "print(\"NDCG (Hit ratio with ranking consideration) on testing set = %.2f\" % (100*NDCG_score),\"%\")"
   ]
  },
  {
   "cell_type": "code",
   "execution_count": null,
   "metadata": {},
   "outputs": [],
   "source": []
  },
  {
   "attachments": {
    "image.png": {
     "image/png": "[encoded data removed]"
    }
   },
   "cell_type": "markdown",
   "metadata": {},
   "source": [
    "# Matrix Factorization\n",
    "* We are predicting how many times one user will click on an app, and we rank the times from high to low to make a top K list for recommendation\n",
    "\n",
    "Matrix factorization is using two smaller matrices to represent a huge matrix (a pure linear transformation in order to save memory).\n",
    "\n",
    "The main reason to use matrix factorization is not only to get as close as the original matrix, for if being that, that will be no room for doing the prediction. So rather than that, we look for the parameters by minimising a certain loss function \n",
    "![image.png](attachment:image.png)"
   ]
  },
  {
   "cell_type": "markdown",
   "metadata": {},
   "source": [
    "### Data preprocessing\n",
    "build a user-map matrix that counts the number of clicks per user for every app. At the same time, make integer IDs for users"
   ]
  },
  {
   "cell_type": "code",
   "execution_count": 16,
   "metadata": {},
   "outputs": [],
   "source": [
    "# click times per user \n",
    "df_train_cv['click_times'] = 1\n",
    "df_val['click_times'] = 1\n",
    "df_test['click_times'] = 1"
   ]
  },
  {
   "cell_type": "code",
   "execution_count": 17,
   "metadata": {},
   "outputs": [],
   "source": [
    "df_train_group = df_train_cv.drop(columns='DateEvent').groupby(by = ['idfa','Advertiser_ID'], as_index=False).sum()\n",
    "df_val_group = df_val.drop(columns='DateEvent').groupby(by = ['idfa','Advertiser_ID'], as_index=False).sum()\n",
    "df_test_group = df_test.drop(columns='DateEvent').groupby(by = ['idfa','Advertiser_ID'], as_index=False).sum()"
   ]
  },
  {
   "cell_type": "code",
   "execution_count": 18,
   "metadata": {},
   "outputs": [],
   "source": [
    "# To feed the keras model, we have to turn both the user_id and app_id into integer index\n",
    "user_map = {i:v for i,v in enumerate(sorted_clicks_df.idfa.unique())}\n",
    "inverse_user_map = {v:i for i,v in enumerate(sorted_clicks_df.idfa.unique())}"
   ]
  },
  {
   "cell_type": "code",
   "execution_count": 19,
   "metadata": {},
   "outputs": [],
   "source": [
    "app_map = {i:v for i,v in enumerate(sorted_clicks_df.Advertiser_ID.unique())}\n",
    "inverse_app_map = {v:i for i,v in enumerate(sorted_clicks_df.Advertiser_ID.unique())}"
   ]
  },
  {
   "cell_type": "code",
   "execution_count": 20,
   "metadata": {},
   "outputs": [],
   "source": [
    "df_train_group_map = df_train_group.copy()\n",
    "df_val_group_map = df_val_group.copy()\n",
    "df_test_group_map = df_test_group.copy()\n",
    "\n",
    "df_train_group_map['idfa'] = df_train_group['idfa'].map(inverse_user_map)\n",
    "df_val_group_map['idfa'] = df_val_group['idfa'].map(inverse_user_map)\n",
    "df_test_group_map['idfa'] = df_test_group['idfa'].map(inverse_user_map)\n",
    "\n",
    "df_train_group_map['Advertiser_ID'] = df_train_group['Advertiser_ID'].map(inverse_app_map)\n",
    "df_val_group_map['Advertiser_ID'] = df_val_group['Advertiser_ID'].map(inverse_app_map)\n",
    "df_test_group_map['Advertiser_ID'] = df_test_group['Advertiser_ID'].map(inverse_app_map)"
   ]
  },
  {
   "cell_type": "code",
   "execution_count": 34,
   "metadata": {},
   "outputs": [
    {
     "name": "stdout",
     "output_type": "stream",
     "text": [
      "df_train_group_map shape :  (765091, 3)\n",
      "number of users :  725433\n",
      "number of apps :  94\n",
      "The sparse matrix is one with shape (725433, 94), with 765091 non-zero click_times\n",
      "sparcity rate = 98.88\n"
     ]
    }
   ],
   "source": [
    "print('df_train_group_map shape : ', df_train_group_map.shape)\n",
    "print('number of users : ', len(user_map.items()))\n",
    "print('number of apps : ', len(app_map.items()))\n",
    "print('The sparse matrix is one with shape (%d, %d), with %d non-zero click_times'\n",
    "     %(len(user_map.items()),len(app_map.items()), df_train_group_map.shape[0]))\n",
    "print('sparcity rate = %.2f' % (100*(1-((df_train_group_map.shape[0])/(len(user_map.items())*len(app_map.items()))))))"
   ]
  },
  {
   "attachments": {
    "image.png": {
     "image/png": "[encoded data removed]"
    }
   },
   "cell_type": "markdown",
   "metadata": {},
   "source": [
    "#### We will be using stochastic gradient descent in order to minimize the loss function is the fastest training method\n",
    "\n",
    "## Funk model\n",
    "this model is based on the work made public by Funk in 2006 : https://sifter.org/simon/journal/20061211.html\n",
    "\n",
    "we try to solve this regulated minimizing problem (equation taken from Sumit Sidana, 2009, Recommendation systems for online advertising) \n",
    "![image.png](attachment:image.png)"
   ]
  },
  {
   "cell_type": "code",
   "execution_count": 294,
   "metadata": {},
   "outputs": [],
   "source": [
    "class FunkSGD(Model):\n",
    "    def __init__(self, learning_rate=0.001, K_latent=10, regr_lambda=0.02, max_iter = 100, err_threshold = 0.000001):\n",
    "        self.learning_rate = learning_rate\n",
    "        self.K_latent = K_latent\n",
    "        self.regr_lambda = regr_lambda\n",
    "        self.max_iter = max_iter\n",
    "        self.err_threshold = err_threshold\n",
    "        \n",
    "        self.params = {\n",
    "            'n_users': 0,\n",
    "            'n_apps': 0}\n",
    "    \n",
    "    def trainFunk(self, train_data):\n",
    "        \n",
    "        # We retreive the hyperparameters\n",
    "        learning_rate = self.learning_rate\n",
    "        K_latent = self.K_latent\n",
    "        regr_lambda = self.regr_lambda\n",
    "        \n",
    "        n_users = self.params['n_users']\n",
    "        n_apps = self.params['n_apps']\n",
    "        \n",
    "\n",
    "        # We initiate with a uniform distribution\n",
    "        U = np.random.uniform(0,1/np.sqrt(K_latent), size=(n_users,K_latent))\n",
    "        V = np.random.uniform(0,1/np.sqrt(K_latent), size=(K_latent,n_apps)) \n",
    "\n",
    "        # We will create a small training data set of size K\n",
    "        temp = train_data\n",
    "\n",
    "        # We create our X and Y from the above temp dataset\n",
    "        y = np.array(temp['click_times'])\n",
    "        x = np.array(temp.drop('click_times',axis=1))\n",
    "        current_it = 1\n",
    "        error = self.err_threshold\n",
    "        while (current_it <= self.max_iter) and (abs(error) >= self.err_threshold):\n",
    "            print('epoch ',current_it)\n",
    "            for i in range(temp.shape[0]): # Calculating gradients for point in our K sized dataset\n",
    "                user = x[i,0]\n",
    "                app = x[i,1]\n",
    "                prediction = np.dot(U[user,:],V[:,app])\n",
    "                error = y[i]-prediction\n",
    "\n",
    "                #Updating the weights of U and V with the above calculated Gradients\n",
    "                V[:,app] += learning_rate*(error*U[user,:]-regr_lambda*U[app,:])\n",
    "                U[user,:] += learning_rate*(error*V[:,app]-regr_lambda*U[user,:])\n",
    "            current_it += 1\n",
    "\n",
    "        self.params['U'] = U\n",
    "        self.params['V'] = V\n",
    "        self.params['R'] = np.dot(U,V)\n",
    "    \n",
    "    def fit(self, train_set, val_set):\n",
    "        \n",
    "        self.params['n_users'] = len(train_set['idfa'].unique())\n",
    "        self.params['n_apps'] = len(train_set['Advertiser_ID'].unique())\n",
    "        \n",
    "        self.trainFunk(train_set)\n",
    "        HR_score, NDCG_score = getScores(self, val_set)\n",
    "            \n",
    "        print(\"Funk Model trained successfully\")\n",
    "        print(\"Hit ratio on validation set = %.2f\" % (100*HR_score),\"%\")\n",
    "        print(\"NDCG (Hit ratio with ranking consideration) on validation set = %.2f\" % (100*NDCG_score),\"%\")\n",
    "        \n",
    "    def top_K(self, user, K=5):\n",
    "        try :\n",
    "            result = self.params['R'][user,].argsort()[-K:].tolist()\n",
    "            result.reverse()\n",
    "        except:\n",
    "            print(\"Oops ! your model is not well trained or not enough items\")\n",
    "        \n",
    "        return result\n",
    "    def set_params(self, params={}):\n",
    "        pass\n",
    "    def get_params(self):\n",
    "        return self.params['R']"
   ]
  },
  {
   "cell_type": "code",
   "execution_count": 295,
   "metadata": {},
   "outputs": [],
   "source": [
    "funk_model = FunkSGD()"
   ]
  },
  {
   "cell_type": "code",
   "execution_count": 296,
   "metadata": {
    "collapsed": true
   },
   "outputs": [
    {
     "name": "stdout",
     "output_type": "stream",
     "text": [
      "epoch  1\n",
      "epoch  2\n",
      "epoch  3\n",
      "epoch  4\n",
      "epoch  5\n",
      "epoch  6\n",
      "epoch  7\n",
      "epoch  8\n",
      "epoch  9\n",
      "epoch  10\n",
      "epoch  11\n",
      "epoch  12\n",
      "epoch  13\n",
      "epoch  14\n",
      "epoch  15\n",
      "epoch  16\n",
      "epoch  17\n",
      "epoch  18\n",
      "epoch  19\n",
      "epoch  20\n",
      "epoch  21\n",
      "epoch  22\n",
      "epoch  23\n",
      "epoch  24\n",
      "epoch  25\n",
      "epoch  26\n",
      "epoch  27\n",
      "epoch  28\n",
      "epoch  29\n",
      "epoch  30\n",
      "epoch  31\n",
      "epoch  32\n",
      "epoch  33\n",
      "epoch  34\n",
      "epoch  35\n",
      "epoch  36\n",
      "epoch  37\n",
      "epoch  38\n",
      "epoch  39\n",
      "epoch  40\n",
      "epoch  41\n",
      "epoch  42\n",
      "epoch  43\n",
      "epoch  44\n",
      "epoch  45\n",
      "epoch  46\n",
      "epoch  47\n",
      "epoch  48\n",
      "epoch  49\n",
      "epoch  50\n",
      "epoch  51\n",
      "epoch  52\n",
      "epoch  53\n",
      "epoch  54\n",
      "epoch  55\n",
      "epoch  56\n",
      "epoch  57\n",
      "epoch  58\n",
      "epoch  59\n",
      "epoch  60\n",
      "epoch  61\n",
      "epoch  62\n",
      "epoch  63\n",
      "epoch  64\n",
      "epoch  65\n",
      "epoch  66\n",
      "epoch  67\n",
      "epoch  68\n",
      "epoch  69\n",
      "epoch  70\n",
      "epoch  71\n",
      "epoch  72\n",
      "epoch  73\n",
      "epoch  74\n",
      "epoch  75\n",
      "epoch  76\n",
      "epoch  77\n",
      "epoch  78\n",
      "epoch  79\n",
      "epoch  80\n",
      "epoch  81\n",
      "epoch  82\n",
      "epoch  83\n",
      "epoch  84\n",
      "epoch  85\n",
      "epoch  86\n",
      "epoch  87\n",
      "epoch  88\n",
      "epoch  89\n",
      "epoch  90\n",
      "epoch  91\n",
      "epoch  92\n",
      "epoch  93\n",
      "epoch  94\n",
      "epoch  95\n",
      "epoch  96\n",
      "epoch  97\n",
      "epoch  98\n",
      "epoch  99\n",
      "epoch  100\n",
      "Funk Model trained successfully\n",
      "Hit ratio on validation set = 87.13 %\n",
      "NDCG (Hit ratio with ranking consideration) on validation set = 74.93 %\n"
     ]
    }
   ],
   "source": [
    "funk_model.fit(df_train_group_map,df_val_group_map)"
   ]
  },
  {
   "cell_type": "code",
   "execution_count": 299,
   "metadata": {},
   "outputs": [
    {
     "name": "stdout",
     "output_type": "stream",
     "text": [
      "Hit ratio on testing set = 85.17 %\n",
      "NDCG (Hit ratio with ranking consideration) on testing set = 69.40 %\n"
     ]
    }
   ],
   "source": [
    "HR_score, NDCG_score = getScores(funk_model, df_test_group_map, K=5)\n",
    "print(\"Hit ratio on testing set = %.2f\" % (100*HR_score),\"%\")\n",
    "print(\"NDCG (Hit ratio with ranking consideration) on testing set = %.2f\" % (100*NDCG_score),\"%\")"
   ]
  },
  {
   "cell_type": "code",
   "execution_count": 397,
   "metadata": {},
   "outputs": [
    {
     "name": "stdout",
     "output_type": "stream",
     "text": [
      "Similarity level is up to 0.00 %\n"
     ]
    }
   ],
   "source": [
    "# difference from popularity model \n",
    "sample_100 = df_train_group_map.sample(100)\n",
    "s = 0\n",
    "for i in range(100):\n",
    "    if (set(funk_model.top_K(sample_100['idfa'].iloc[i])) == set(first_model.top_K(sample_100['idfa'].iloc[i]))):\n",
    "        s+=1\n",
    "print(\"Similarity level is up to %.2f\" % (s),\"%\")"
   ]
  },
  {
   "attachments": {
    "image.png": {
     "image/png": "[encoded data removed]"
    }
   },
   "cell_type": "markdown",
   "metadata": {},
   "source": [
    "## Koren model\n",
    "this model is based on the paper : Yehuda Koren, 2008, Factorization meets the neighborhood: a multifaceted collaborative filtering model\n",
    "\n",
    "By adding new variables ( Yj ), this model is proven to be more performing on implicit feedback which is our case with clicks dataset.  In addition it adds to the traditional model bias terms that helps avoid the popularity bias. \n",
    "\n",
    "We will be try to solve this minimization problem : (equation taken from Sumit Sidana, 2009, Recommendation systems for online advertising) \n",
    "![image.png](attachment:image.png)"
   ]
  },
  {
   "cell_type": "code",
   "execution_count": 390,
   "metadata": {},
   "outputs": [],
   "source": [
    "class KorenSGD(Model):\n",
    "    def __init__(self, learning_rate=0.001, K_latent=10, regr_lambda=0.015, regr_lambda1 = 0.005):\n",
    "        self.learning_rate = learning_rate\n",
    "        self.K_latent = K_latent\n",
    "        self.regr_lambda = regr_lambda\n",
    "        self.regr_lambda1 = regr_lambda1\n",
    "        self.params = {\n",
    "            'n_users': 0,\n",
    "            'n_apps': 0}\n",
    "        \n",
    "    def trainKoren(self, train_data):\n",
    "        # We retreive the hyperparameters\n",
    "        learning_rate = self.learning_rate\n",
    "        K_latent = self.K_latent\n",
    "        regr_lambda = self.regr_lambda\n",
    "        regr_lambda1 = self.regr_lambda1\n",
    "\n",
    "        n_users = len(train_data['idfa'].unique())\n",
    "        n_apps = len(train_data['Advertiser_ID'].unique())\n",
    "\n",
    "        nu = train_data['click_times'].mean()\n",
    "\n",
    "        # We initiate with a uniform distribution\n",
    "        R = np.zeros(shape=(n_users,n_apps))\n",
    "        U = np.random.uniform(0,1/np.sqrt(K_latent), size=(n_users,K_latent))\n",
    "        V = np.random.uniform(0,1/np.sqrt(K_latent), size=(K_latent,n_apps))\n",
    "        Y = np.random.uniform(0,1/np.sqrt(K_latent), size=(n_apps,K_latent))\n",
    "        bu = np.random.uniform(0,1/np.sqrt(K_latent), size=n_users)\n",
    "        ba = np.random.uniform(0,1/np.sqrt(K_latent), size=n_apps)\n",
    "        \n",
    "        \n",
    "        temp = train_data\n",
    "\n",
    "        # We create our X and Y from the above temp dataset\n",
    "        y = np.array(temp['click_times'])\n",
    "        x = np.array(temp.drop('click_times',axis=1))\n",
    "\n",
    "        for i in range(temp.shape[0]): # We loop over the data\n",
    "            user = x[i,0]\n",
    "            app = x[i,1]\n",
    "            \n",
    "            # set of clicked apps\n",
    "            N = np.array(df_train_group_map[df_train_group_map['idfa']== user]['Advertiser_ID'])\n",
    "            \n",
    "            # Prediction with Koren's formula\n",
    "            prediction = nu+bu[user]+ba[app]+np.dot(U[user,:]+(1/np.sqrt(len(N)))*np.sum(Y[N,:], axis=0),V[:,app])\n",
    "            \n",
    "            R[user,app] = prediction #updating the target matrix\n",
    "            \n",
    "            error = y[i]-prediction\n",
    "\n",
    "            #Updating the weights of U and V, the Bias and other variables with the above calculated Gradients\n",
    "            bu[user]+=learning_rate*(error-regr_lambda1*bu[user])\n",
    "            ba[app]+=learning_rate*(error-regr_lambda1*ba[app])\n",
    "\n",
    "            V[:,app]+=learning_rate*(error*(U[user,:]+(1/np.sqrt(len(N)))*np.sum(Y[N,:], axis=0))-regr_lambda*V[:,app])\n",
    "            U[user,:]+=learning_rate*(error*V[:,app]-regr_lambda*U[user,:])\n",
    "\n",
    "            Y[N,:] = Y[N,:]+learning_rate*(error*(1/np.sqrt(len(N)))*V[:,app]-regr_lambda*Y[N,:])\n",
    "        \n",
    "        # save trained params\n",
    "        self.params['U'] = U\n",
    "        self.params['V'] = V\n",
    "        self.params['R'] = R\n",
    "        \n",
    "    def fit(self, train_set, val_set):\n",
    "        \n",
    "        self.params['n_users'] = len(train_set['idfa'].unique())\n",
    "        self.params['n_apps'] = len(train_set['Advertiser_ID'].unique())\n",
    "        \n",
    "        self.trainKoren(train_set)\n",
    "        HR_score, NDCG_score = getScores(self, val_set)\n",
    "        \n",
    "        print(\"Koren Model trained successfully\")\n",
    "        print(\"Hit ratio on validation set = %.2f\" % (100*HR_score),\"%\")\n",
    "        print(\"NDCG (Hit ratio with ranking consideration) on validation set = %.2f\" % (100*NDCG_score),\"%\")\n",
    "    \n",
    "    def top_K(self, user, K=5):\n",
    "        try :\n",
    "            result = self.params['R'][user,].argsort()[-K:].tolist()\n",
    "            result.reverse()\n",
    "        except:\n",
    "            print(\"Oops ! your model is not well trained or not enough items\")\n",
    "        \n",
    "        return result"
   ]
  },
  {
   "cell_type": "code",
   "execution_count": 227,
   "metadata": {},
   "outputs": [],
   "source": [
    "koren = KorenSGD()"
   ]
  },
  {
   "cell_type": "code",
   "execution_count": 228,
   "metadata": {},
   "outputs": [
    {
     "name": "stdout",
     "output_type": "stream",
     "text": [
      "Koren Model trained successfully\n",
      "Hit ratio on validation set = 95.75 %\n",
      "NDCG (Hit ratio with ranking consideration) on validation set = 91.91 %\n"
     ]
    }
   ],
   "source": [
    "koren.fit(df_train_group_map,df_val_group_map)"
   ]
  },
  {
   "cell_type": "code",
   "execution_count": 229,
   "metadata": {},
   "outputs": [
    {
     "name": "stdout",
     "output_type": "stream",
     "text": [
      "Hit ratio on testing set = 94.38 %\n",
      "NDCG (Hit ratio with ranking consideration) on testing set = 91.14 %\n"
     ]
    }
   ],
   "source": [
    "HR_score, NDCG_score = getScores(koren, df_test_group_map, K=5)\n",
    "print(\"Hit ratio on testing set = %.2f\" % (100*HR_score),\"%\")\n",
    "print(\"NDCG (Hit ratio with ranking consideration) on testing set = %.2f\" % (100*NDCG_score),\"%\")"
   ]
  },
  {
   "cell_type": "code",
   "execution_count": 230,
   "metadata": {},
   "outputs": [
    {
     "name": "stdout",
     "output_type": "stream",
     "text": [
      "Similarity level is up to 0.00 %\n"
     ]
    }
   ],
   "source": [
    "# difference from popularity model \n",
    "sample_100 = df_train_group_map.sample(100)\n",
    "s = 0\n",
    "for i in range(100):\n",
    "    if (set(koren.top_K(sample_100['idfa'].iloc[i])) == set(first_model.top_K(sample_100['idfa'].iloc[i]))):\n",
    "        s+=1\n",
    "print(\"Similarity level is up to %.2f\" % (s),\"%\")"
   ]
  },
  {
   "attachments": {
    "image.png": {
     "image/png": "[encoded data removed]"
    }
   },
   "cell_type": "markdown",
   "metadata": {},
   "source": [
    "## Hu Model\n",
    "This model is based on the paper : Yifan Hu, Yehuda Koren, and Chris Volinsky, 2008c, Collaborative filtering for implicit feedback datasets\n",
    "\n",
    "This model tries to solve this minimization problem by ALS (alternating least squares) method: \n",
    "![image.png](attachment:image.png)"
   ]
  },
  {
   "cell_type": "code",
   "execution_count": 391,
   "metadata": {},
   "outputs": [],
   "source": [
    "class HuALS(Model):\n",
    "    def __init__(self, alpha = 40, K_latent = 10, regr_lambda = 0.01, max_iter = 10):\n",
    "        self.alpha = alpha # user-app preference parameter\n",
    "        self.K_latent = K_latent\n",
    "        self.regr_lambda = regr_lambda\n",
    "        self.max_iter = max_iter\n",
    "        self.params = {\n",
    "            'n_users': 0,\n",
    "            'n_apps': 0}\n",
    "        \n",
    "    def trainHu(self, train_data):\n",
    "        # We retreive the hyperparameters\n",
    "        alpha = self.alpha\n",
    "        K_latent = self.K_latent\n",
    "        regr_lambda = self.regr_lambda\n",
    "        max_iter = self.max_iter\n",
    "\n",
    "        n_users = len(train_data['idfa'].unique())\n",
    "        n_apps = len(train_data['Advertiser_ID'].unique())\n",
    "\n",
    "        # We build the penalization and preference matrices\n",
    "        C = 1 + alpha*np.array(train_data.pivot_table(values='click_times', index=['idfa'], columns ='Advertiser_ID').fillna(0).values, dtype=\"int\")\n",
    "        P = np.array(train_data.groupby(['idfa','Advertiser_ID']).size().reset_index(name='count').pivot_table(values='count', index=['idfa'], columns ='Advertiser_ID').fillna(0).values, dtype=\"int\")\n",
    "        \n",
    "        # We initiate with a uniform distribution\n",
    "        U = np.random.uniform(0,1/np.sqrt(K_latent), size=(n_users,K_latent))\n",
    "        V = np.random.uniform(0,1/np.sqrt(K_latent), size=(K_latent,n_apps))\n",
    "\n",
    "        # We use ALS to find the minimum\n",
    "        for sweep in range(max_iter):\n",
    "            # recomputing all user factors\n",
    "            A = np.dot(V,V.T)\n",
    "\n",
    "            for user in range(n_users):\n",
    "                pu = P[user,:]\n",
    "\n",
    "                inv = np.linalg.inv(A+np.dot(V,((C[user,:]-1)*V).T)+regr_lambda*np.identity(K_latent))\n",
    "                U[user,:] = np.dot(inv,np.dot(V,(C[user,:]*pu.T).T))\n",
    "\n",
    "            # recomputing all app factors\n",
    "            B = np.dot(U.T,U)\n",
    "\n",
    "            for app in range(n_apps):\n",
    "                pa = P[:,app]\n",
    "\n",
    "                inv = np.linalg.inv(B+np.dot(U.T,((C[:,app]-1)*U.T).T)+regr_lambda*np.identity(K_latent))\n",
    "                V[:,app] = np.dot(inv,np.dot(U.T,(C[:,app]*pa.T).T))\n",
    "        \n",
    "        # save trained params\n",
    "        self.params['U'] = U\n",
    "        self.params['V'] = V\n",
    "        self.params['R'] = np.dot(U,V)\n",
    "        \n",
    "    def fit(self, train_set, val_set):\n",
    "        \n",
    "        self.params['n_users'] = len(train_set['idfa'].unique())\n",
    "        self.params['n_apps'] = len(train_set['Advertiser_ID'].unique())\n",
    "        \n",
    "        self.trainHu(train_set)\n",
    "        HR_score, NDCG_score = getScores(self, val_set)\n",
    "        \n",
    "        print(\"Koren Model trained successfully\")\n",
    "        print(\"Hit ratio on validation set = %.2f\" % (100*HR_score),\"%\")\n",
    "        print(\"NDCG (Hit ratio with ranking consideration) on validation set = %.2f\" % (100*NDCG_score),\"%\")\n",
    "    \n",
    "    def top_K(self, user, K=5):\n",
    "        try :\n",
    "            result = self.params['R'][user,].argsort()[-K:].tolist()\n",
    "            result.reverse()\n",
    "        except:\n",
    "            print(\"Oops ! your model is not well trained or not enough items\")\n",
    "        \n",
    "        return result"
   ]
  },
  {
   "cell_type": "code",
   "execution_count": 392,
   "metadata": {},
   "outputs": [],
   "source": [
    "hu_model = HuALS()"
   ]
  },
  {
   "cell_type": "code",
   "execution_count": 393,
   "metadata": {},
   "outputs": [
    {
     "name": "stdout",
     "output_type": "stream",
     "text": [
      "Koren Model trained successfully\n",
      "Hit ratio on validation set = 96.04 %\n",
      "NDCG (Hit ratio with ranking consideration) on validation set = 91.29 %\n"
     ]
    }
   ],
   "source": [
    "hu_model.fit(df_train_group_map,df_val_group_map)"
   ]
  },
  {
   "cell_type": "code",
   "execution_count": 394,
   "metadata": {},
   "outputs": [
    {
     "name": "stdout",
     "output_type": "stream",
     "text": [
      "Hit ratio on testing set = 94.98 %\n",
      "NDCG (Hit ratio with ranking consideration) on testing set = 90.52 %\n"
     ]
    }
   ],
   "source": [
    "HR_score, NDCG_score = getScores(hu_model, df_test_group_map, K=5)\n",
    "print(\"Hit ratio on testing set = %.2f\" % (100*HR_score),\"%\")\n",
    "print(\"NDCG (Hit ratio with ranking consideration) on testing set = %.2f\" % (100*NDCG_score),\"%\")"
   ]
  },
  {
   "cell_type": "code",
   "execution_count": 395,
   "metadata": {},
   "outputs": [
    {
     "name": "stdout",
     "output_type": "stream",
     "text": [
      "Similarity level is up to 0.00 %\n"
     ]
    }
   ],
   "source": [
    "# difference from popularity model \n",
    "sample_100 = df_train_group_map.sample(100)\n",
    "s = 0\n",
    "for i in range(100):\n",
    "    if (set(hu_model.top_K(sample_100['idfa'].iloc[i])) == set(first_model.top_K(sample_100['idfa'].iloc[i]))):\n",
    "        s+=1\n",
    "print(\"Similarity level is up to %.2f\" % (s),\"%\")"
   ]
  },
  {
   "cell_type": "markdown",
   "metadata": {},
   "source": [
    "# Factorization Machines"
   ]
  },
  {
   "cell_type": "code",
   "execution_count": null,
   "metadata": {},
   "outputs": [],
   "source": []
  }
 ],
 "metadata": {
  "kernelspec": {
   "display_name": "Python 3",
   "language": "python",
   "name": "python3"
  },
  "language_info": {
   "codemirror_mode": {
    "name": "ipython",
    "version": 3
   },
   "file_extension": ".py",
   "mimetype": "text/x-python",
   "name": "python",
   "nbconvert_exporter": "python",
   "pygments_lexer": "ipython3",
   "version": "3.7.6"
  }
 },
 "nbformat": 4,
 "nbformat_minor": 4
}
